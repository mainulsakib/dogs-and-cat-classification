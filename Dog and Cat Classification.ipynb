{
 "cells": [
  {
   "cell_type": "markdown",
   "id": "b7dc6d5e-853b-4579-8026-f6df76e89632",
   "metadata": {},
   "source": [
    "Dependencices \n",
    "\n"
   ]
  },
  {
   "cell_type": "code",
   "execution_count": 1,
   "id": "a9553b00-4416-4f97-8b8a-917e3a94c925",
   "metadata": {},
   "outputs": [],
   "source": [
    "import os \n",
    "import numpy as np \n",
    "import matplotlib.pyplot as plt\n",
    "\n",
    "from PIL import Image,ImageTk\n",
    "from io import BytesIO\n",
    "\n",
    "import requests \n",
    "from tkinter import Tk,Label ,Canvas ,Entry ,Button ,NW\n",
    "\n",
    "from keras.models import Sequential,load_model \n",
    "from keras.layers import Conv2D,MaxPooling2D,Flatten ,Dense \n",
    "from keras.preprocessing.image import ImageDataGenerator ,load_img,img_to_array \n",
    "from keras.preprocessing import image as image_utils \n"
   ]
  },
  {
   "cell_type": "code",
   "execution_count": 2,
   "id": "6e7fe734-2dbb-4706-9ffc-11de3cc09074",
   "metadata": {},
   "outputs": [],
   "source": [
    "model=Sequential()\n",
    "\n",
    "model.add(Conv2D(32,(3,3),input_shape=(128,128,3),activation='relu'))\n",
    "model.add(MaxPooling2D(2,2))\n",
    "\n",
    "model.add(Conv2D(32,(3,3),activation='relu'))\n",
    "model.add(MaxPooling2D(2,2))\n",
    "\n",
    "model.add(Conv2D(32,(3,3),activation='relu'))\n",
    "model.add(MaxPooling2D(2,2))\n",
    "\n",
    "model.add(Flatten())\n",
    "\n",
    "model.add(Dense(128,activation='relu'))\n",
    "model.add(Dense(2,activation='softmax'))\n",
    "\n",
    "\n"
   ]
  },
  {
   "cell_type": "code",
   "execution_count": 3,
   "id": "b7b707e0-5442-41a8-b079-bf27ae251e60",
   "metadata": {},
   "outputs": [],
   "source": [
    "model.compile(optimizer=\"adam\",\n",
    "             loss=\"categorical_crossentropy\",\n",
    "             metrics=[\"accuracy\"])"
   ]
  },
  {
   "cell_type": "code",
   "execution_count": 4,
   "id": "f821180a-745f-4ffb-aaeb-bf1a9c229a14",
   "metadata": {},
   "outputs": [],
   "source": [
    "train_datagen=ImageDataGenerator(rescale=1.0/255,\n",
    "                                shear_range=0.2,\n",
    "                                zoom_range=0.2,\n",
    "                                 horizontal_flip=True \n",
    "                                )"
   ]
  },
  {
   "cell_type": "code",
   "execution_count": 5,
   "id": "b95476e0-7304-4a77-9021-e5a45e81e143",
   "metadata": {},
   "outputs": [],
   "source": [
    "test_datagen=ImageDataGenerator(rescale=1.0/255)"
   ]
  },
  {
   "cell_type": "code",
   "execution_count": 6,
   "id": "fdd9c5fc-c612-4171-a40e-6e8be862150e",
   "metadata": {},
   "outputs": [
    {
     "name": "stdout",
     "output_type": "stream",
     "text": [
      "Found 8000 images belonging to 2 classes.\n",
      "Found 2000 images belonging to 2 classes.\n"
     ]
    }
   ],
   "source": [
    "training_datasets=train_datagen.flow_from_directory(\"dataset/training_set\",target_size=(128,128),batch_size=32,class_mode='categorical')\n",
    "testing_datasets=test_datagen.flow_from_directory(\"dataset/test_set\",target_size=(128,128),batch_size=32,class_mode='categorical')"
   ]
  },
  {
   "cell_type": "code",
   "execution_count": 7,
   "id": "6db4a7be-05bb-4b89-9e0d-5507b9554d94",
   "metadata": {},
   "outputs": [
    {
     "name": "stdout",
     "output_type": "stream",
     "text": [
      "Epoch 1/3\n",
      "125/125 [==============================] - 176s 1s/step - loss: 0.6981 - accuracy: 0.5120 - val_loss: 0.6903 - val_accuracy: 0.5176\n",
      "Epoch 2/3\n",
      "125/125 [==============================] - 107s 859ms/step - loss: 0.6777 - accuracy: 0.5755 - val_loss: 0.6667 - val_accuracy: 0.6094\n",
      "Epoch 3/3\n",
      "125/125 [==============================] - 84s 675ms/step - loss: 0.6422 - accuracy: 0.6348 - val_loss: 0.6212 - val_accuracy: 0.6533\n"
     ]
    },
    {
     "data": {
      "text/plain": [
       "<keras.callbacks.History at 0x270ebc91070>"
      ]
     },
     "execution_count": 7,
     "metadata": {},
     "output_type": "execute_result"
    }
   ],
   "source": [
    "model.fit(training_datasets,steps_per_epoch=4000/32,epochs=3,validation_data=testing_datasets ,validation_steps=1000/32)"
   ]
  },
  {
   "cell_type": "code",
   "execution_count": 8,
   "id": "8fe47bb1-e2c5-4a74-8018-f6387a887daf",
   "metadata": {},
   "outputs": [],
   "source": [
    "model.save(\"model/model.h5\")\n",
    "model.save_weights(\"model/model_weights.h5\")"
   ]
  },
  {
   "cell_type": "code",
   "execution_count": 9,
   "id": "e2abdf3d-55dd-4979-8cd8-6dd2a4773bb6",
   "metadata": {},
   "outputs": [],
   "source": [
    "image_width,image_height=128,128\n",
    "final_model=load_model(\"model/model.h5\")\n",
    "final_model.load_weights(\"model/model_weights.h5\")"
   ]
  },
  {
   "cell_type": "code",
   "execution_count": 10,
   "id": "1685d673-c15c-478f-9bd4-1d3b1c688fe2",
   "metadata": {},
   "outputs": [],
   "source": [
    "url= \"\"\n",
    "window=Tk()\n",
    "window.title(\"Dogs and Cats Classification\")\n",
    "window.geometry(\"800x1200\")\n",
    "label=Label(window,text=\"Please enter Your custom URL\",font=('Halvetica',16))\n",
    "label.pack()\n",
    "\n",
    "\n",
    "\n",
    "def Enter():\n",
    "    response = requests.get(url)\n",
    "    test_image = Image.open(BytesIO(response.content))\n",
    "    put_image = test_image.resize((400, 400))\n",
    "    test_image = test_image.resize((128, 128))\n",
    "    \n",
    "    img = ImageTk.PhotoImage(put_image)\n",
    "    pic = Label(image = img)\n",
    "    pic.pack()\n",
    "   \n",
    "    pic.image = img\n",
    "    test_image = image_utils.img_to_array(test_image)\n",
    "    test_image = np.expand_dims(test_image, axis = 0)\n",
    "    \n",
    "    results = model.predict_on_batch(test_image)\n",
    "    \n",
    "    \n",
    "    if results[0][0] == 1:\n",
    "        res = \"Dog\"\n",
    "    elif  results[0][1] == 1:\n",
    "        res = \"Cat\"\n",
    "        \n",
    "        \n",
    "    output = Label(window, text = \"Predicted Results: \"+ res, font = (\"Halvetica\", 16))\n",
    "    output.pack()"
   ]
  },
  {
   "cell_type": "code",
   "execution_count": 11,
   "id": "aaaa1b44-3a27-4044-8449-a947d236568c",
   "metadata": {},
   "outputs": [
    {
     "name": "stderr",
     "output_type": "stream",
     "text": [
      "Exception in Tkinter callback\n",
      "Traceback (most recent call last):\n",
      "  File \"G:\\anaconda3\\envs\\DL\\lib\\tkinter\\__init__.py\", line 1892, in __call__\n",
      "    return self.func(*args)\n",
      "  File \"C:\\Users\\Mainul\\AppData\\Local\\Temp/ipykernel_7248/4264705431.py\", line 11, in Enter\n",
      "    response = requests.get(url)\n",
      "  File \"G:\\anaconda3\\envs\\DL\\lib\\site-packages\\requests\\api.py\", line 75, in get\n",
      "    return request('get', url, params=params, **kwargs)\n",
      "  File \"G:\\anaconda3\\envs\\DL\\lib\\site-packages\\requests\\api.py\", line 61, in request\n",
      "    return session.request(method=method, url=url, **kwargs)\n",
      "  File \"G:\\anaconda3\\envs\\DL\\lib\\site-packages\\requests\\sessions.py\", line 528, in request\n",
      "    prep = self.prepare_request(req)\n",
      "  File \"G:\\anaconda3\\envs\\DL\\lib\\site-packages\\requests\\sessions.py\", line 456, in prepare_request\n",
      "    p.prepare(\n",
      "  File \"G:\\anaconda3\\envs\\DL\\lib\\site-packages\\requests\\models.py\", line 316, in prepare\n",
      "    self.prepare_url(url, params)\n",
      "  File \"G:\\anaconda3\\envs\\DL\\lib\\site-packages\\requests\\models.py\", line 390, in prepare_url\n",
      "    raise MissingSchema(error)\n",
      "requests.exceptions.MissingSchema: Invalid URL '': No schema supplied. Perhaps you meant http://?\n"
     ]
    }
   ],
   "source": [
    "window=Tk()\n",
    "User_input = Entry()\n",
    "User_input.pack()\n",
    "button = Button(window, text = \"Detect Image\", font = (\"Halvetica\", 16),command=Enter)\n",
    "button.pack()\n",
    "window.mainloop()"
   ]
  },
  {
   "cell_type": "code",
   "execution_count": null,
   "id": "da97dfba-9cd6-44b7-aa3e-f3334eb3db3f",
   "metadata": {},
   "outputs": [],
   "source": []
  }
 ],
 "metadata": {
  "kernelspec": {
   "display_name": "Python 3 (ipykernel)",
   "language": "python",
   "name": "python3"
  },
  "language_info": {
   "codemirror_mode": {
    "name": "ipython",
    "version": 3
   },
   "file_extension": ".py",
   "mimetype": "text/x-python",
   "name": "python",
   "nbconvert_exporter": "python",
   "pygments_lexer": "ipython3",
   "version": "3.9.7"
  }
 },
 "nbformat": 4,
 "nbformat_minor": 5
}
